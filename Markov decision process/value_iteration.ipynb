{
  "cells": [
    {
      "cell_type": "markdown",
      "metadata": {
        "id": "HIFNcC0ewioN"
      },
      "source": [
        "# Code for solving the Wumpus World problem"
      ]
    },
    {
      "cell_type": "code",
      "execution_count": null,
      "metadata": {
        "id": "RLY3Vz_HwioO"
      },
      "outputs": [],
      "source": [
        "import numpy as np"
      ]
    },
    {
      "cell_type": "code",
      "execution_count": null,
      "metadata": {
        "id": "j4JEVWuMwioP"
      },
      "outputs": [],
      "source": [
        "# Helper function to get the next state\n",
        "def get_next_state(s, action, grid_size):\n",
        "    if action == 'UP':\n",
        "        # If the agent tries to move up from the top row, stay in the same state\n",
        "        return max(s - grid_size, 0) if s >= grid_size else s\n",
        "    elif action == 'DOWN':\n",
        "        # If the agent tries to move down from the bottom row, stay in the same state\n",
        "        return min(s + grid_size, grid_size**2 - 1) if s < grid_size*(grid_size - 1) else s\n",
        "    elif action == 'LEFT':\n",
        "        # If the agent tries to move left from the first column, stay in the same state\n",
        "        return s if s % grid_size == 0 else s - 1\n",
        "    elif action == 'RIGHT':\n",
        "        # If the agent tries to move right from the last column, stay in the same state\n",
        "        return s if (s + 1) % grid_size == 0 else s + 1\n",
        "    return s"
      ]
    },
    {
      "cell_type": "code",
      "execution_count": null,
      "metadata": {
        "id": "g8FGT6SYwioQ"
      },
      "outputs": [],
      "source": [
        "# Value Iteration Function, Students need to implement the following loop\n",
        "def MDP_value_iteration(S, A, P, R, gamma, eta, max_iter):\n",
        "    # Input: S, A, P, R, gamma, eta, max_iter\n",
        "    # S: set of states, stored as a list of integers\n",
        "    # A: set of actions, stored as a list of strings, e.g. ['UP', 'DOWN', 'LEFT', 'RIGHT']\n",
        "    # P: transition probabilities matrix, stored as a 3D numpy array, P[s',s,a] = P(s'|s,a) ## P[s][a][s']\n",
        "    # R: reward function, stored as a 1D numpy array, R[s] = R(s)\n",
        "    # gamma: discount factor\n",
        "    # eta: convergence factor\n",
        "    # max_iter: maximum number of iterations\n",
        "    # Initialize the utilities for each state as zeros\n",
        "    U = np.zeros(len(S))\n",
        "\n",
        "    for i in range(max_iter):\n",
        "        # Create a copy of the current utility values\n",
        "        U_prev = U.copy()\n",
        "\n",
        "        # Iterate over all states in S\n",
        "        for s in S:\n",
        "            # TODO: Update the utility U[s]\n",
        "            # Hints:\n",
        "            # 1. Calculate the sum of utilities for each action a in A\n",
        "            # 2. Use the Bellman equation: R[s] + gamma * max(sum(P(s'|s,a) * U_prev[s']) for each a in A)\n",
        "            # 3. P(s'|s,a) is the probability of transitioning to state s' from state s given action a\n",
        "            # 4. U_prev[s'] is the utility of the state s' from the previous iteration\n",
        "            future_utility = []\n",
        "            for a in A:\n",
        "              #Need to figure out s_prime\n",
        "              value = 0\n",
        "              sum_prob = 0\n",
        "              count = 0\n",
        "              for s_prime in P[s][a]:\n",
        "                count+=1\n",
        "                #print(count)\n",
        "                #print(\"a is : \", a)\n",
        "                #print(\"s_prime is: \", s_prime)\n",
        "                #print(\"transition prob is: \",P[s][a][s_prime])\n",
        "                #print(\"U_prev[s_prime] is : \",U_prev[s_prime] )\n",
        "                #sum_prob += P[s][a][s_prime]\n",
        "                value += (P[s][a][s_prime]*U_prev[s_prime])\n",
        "                #print(\"value in loop is: \", value)\n",
        "\n",
        "              #print(\"sum of prob is: \", sum_prob)\n",
        "              #print(\"value outside loop is: \", value)\n",
        "              #print(\"for a = {} , value is {}\".format(a,value))\n",
        "              future_utility.append(value)\n",
        "            future_utility = np.array(future_utility)\n",
        "            #print(\"future_utility.shape:\", future_utility.shape)\n",
        "            #print(\"array has: \",future_utility )\n",
        "            #print(\"max is: \", np.max(future_utility))\n",
        "            #print(\"gamma is: \", gamma)\n",
        "            #print(\"R[s] is : \", R[s])\n",
        "            #print(\"max with gamma is: \", gamma*np.max(future_utility))\n",
        "            U[s] = R[s]+gamma*np.max(future_utility)\n",
        "            #print(\"Current is : \", U[s])\n",
        "            #print(\"Previous is : \", U_prev[s])\n",
        "\n",
        "        #if i < 5:\n",
        "          #print(\"End of round\",i, \"U is: \", U, \"U_prev is: \", U_prev)\n",
        "\n",
        "        # Check for convergence\n",
        "        # TODO: Break the loop if the maximum change in utility values across all states is less than eta\n",
        "        # Hints:\n",
        "        # 1. Find the maximum absolute change in utilities\n",
        "        # 2. Compare this value with eta\n",
        "        if np.max(np.abs(U-U_prev))<eta:\n",
        "          break\n",
        "    # Return the final utilities\n",
        "    #print(U)\n",
        "    return U\n",
        "\n",
        "# Policy Generation Function\n",
        "def MDP_policy(S, A, P, U):\n",
        "    # policy[s] is the best action to take in state s, firstly set it to 0 for all states\n",
        "    policy = np.zeros(len(S), dtype=int)\n",
        "    # Iterate over all states in S\n",
        "    for s in S:\n",
        "        # TODO: Update the policy for the current state s\n",
        "        # Hints: Given the current utility values U, read off the best action to take in state s\n",
        "        utility = []\n",
        "        for a in A:\n",
        "          value = 0\n",
        "          for s_prime in P[s][a]:\n",
        "            value += P[s][a][s_prime]*U[s_prime]\n",
        "\n",
        "          utility.append(value)\n",
        "\n",
        "        #print(utility)\n",
        "        utility = np.array(utility)\n",
        "        #print(\"utility is :\", utility)\n",
        "        policy[s] = np.argmax(utility)\n",
        "\n",
        "    return policy"
      ]
    },
    {
      "cell_type": "code",
      "execution_count": null,
      "metadata": {
        "colab": {
          "base_uri": "https://localhost:8080/"
        },
        "id": "YpE95vq8wioQ",
        "outputId": "5cb85d24-6501-4414-9f7e-5ea90d6904bc"
      },
      "outputs": [
        {
          "output_type": "stream",
          "name": "stdout",
          "text": [
            "Utilities and Policy for the Given Wumpus World:\n",
            "27.79 → | 32.73 → | 38.47 → | 45.14 ← | \n",
            "24.50 → | 28.57 → | 33.25 ↑ | 38.47 ↑ | \n",
            "21.24 ↑ | 24.15 ↑ | 23.93 ↑ | 32.27 ↑ | \n",
            "17.31 ↑ | 10.48 ↑ | 17.97 → | 26.78 ↑ | \n"
          ]
        }
      ],
      "source": [
        "# Define the Wumpus world\n",
        "grid_size = 4  # 4x4 grid\n",
        "S = range(grid_size**2)  # States\n",
        "A = ['RIGHT', 'LEFT', 'DOWN', 'UP']  # Actions\n",
        "\n",
        "# Define the transition probabilities with stochastic movement\n",
        "# P[s][a][s'] = P(s'|s,a)\n",
        "P = {s: {a: {} for a in A} for s in S}\n",
        "for s in S:\n",
        "    for a in A:\n",
        "        \"\"\"\n",
        "        if s == 0 and a==\"LEFT\":\n",
        "          print(\"s is: \", s)\n",
        "          print(\"a is: \", a)\n",
        "          print(get_next_state(s, a, grid_size))\n",
        "        \"\"\"\n",
        "        intended_state = get_next_state(s, a, grid_size)\n",
        "        P[s][a][intended_state] = 0.8\n",
        "        #if s == 0 and a==\"LEFT\":\n",
        "          #print(P[s][a][intended_state])\n",
        "        if a in ['LEFT', 'RIGHT']:\n",
        "            P[s][a][get_next_state(s, 'UP', grid_size)] = 0.1\n",
        "            P[s][a][get_next_state(s, 'DOWN', grid_size)] = 0.1\n",
        "        else:\n",
        "            P[s][a][get_next_state(s, 'LEFT', grid_size)] = 0.1\n",
        "            P[s][a][get_next_state(s, 'RIGHT', grid_size)] = 0.1\n",
        "\n",
        "# Define the rewards for each state\n",
        "R = [-0.4] * 16\n",
        "R[3] = 10   # Gold\n",
        "R[10] = -5  # Pit\n",
        "R[14] = -5  # Pit\n",
        "R[13] = -10 # Wumpus\n",
        "\n",
        "\n",
        "# Run value iteration\n",
        "gamma = 0.9\n",
        "eta = 0.1\n",
        "max_iter = 10000\n",
        "U = MDP_value_iteration(S, A, P, R, gamma, eta, max_iter)\n",
        "\n",
        "# Policy representation for printing\n",
        "policy_repr = {0: '→', 1: '←', 2: '↓', 3: '↑'}\n",
        "\n",
        "# Generate policy\n",
        "policy = MDP_policy(S, A, P, U)\n",
        "\n",
        "# Print utilities and policy in a 4x4 grid\n",
        "print(\"Utilities and Policy for the Given Wumpus World:\")\n",
        "for i in range(grid_size):\n",
        "    for j in range(grid_size):\n",
        "        state = i * grid_size + j\n",
        "        print(f\"{U[state]:.2f} {policy_repr[policy[state]]}\", end=\" | \")\n",
        "    print()\n"
      ]
    },
    {
      "cell_type": "code",
      "source": [],
      "metadata": {
        "id": "9xUzegg8B44O"
      },
      "execution_count": null,
      "outputs": []
    }
  ],
  "metadata": {
    "kernelspec": {
      "display_name": "Python 3",
      "language": "python",
      "name": "python3"
    },
    "language_info": {
      "codemirror_mode": {
        "name": "ipython",
        "version": 3
      },
      "file_extension": ".py",
      "mimetype": "text/x-python",
      "name": "python",
      "nbconvert_exporter": "python",
      "pygments_lexer": "ipython3",
      "version": "3.10.0"
    },
    "colab": {
      "provenance": []
    }
  },
  "nbformat": 4,
  "nbformat_minor": 0
}